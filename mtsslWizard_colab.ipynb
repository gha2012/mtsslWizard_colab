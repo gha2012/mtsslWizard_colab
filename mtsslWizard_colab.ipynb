{
  "cells": [
    {
      "cell_type": "markdown",
      "metadata": {
        "id": "view-in-github",
        "colab_type": "text"
      },
      "source": [
        "<a href=\"https://colab.research.google.com/github/gha2012/mtsslWizard_colab/blob/main/mtsslWizard_colab.ipynb\" target=\"_parent\"><img src=\"https://colab.research.google.com/assets/colab-badge.svg\" alt=\"Open In Colab\"/></a>"
      ]
    },
    {
      "cell_type": "markdown",
      "metadata": {
        "id": "Be067JK7wiJW"
      },
      "source": [
        "## This is a colab running mtsslWizard for bipedal labels."
      ]
    },
    {
      "cell_type": "markdown",
      "metadata": {
        "id": "Gt8liA24FjHB"
      },
      "source": [
        "Enter details for the labelling sites below and press Runtime->Run all...\n",
        "\n",
        "A \"Choose files...\" button will appear in the output. Use it to upload a .pdb file.\n",
        "\n",
        "Once the calculation completes, you can download the ensembles from the file system on the left. The result files are inside the \"/content/mtsslWizard_bipedal\" folder."
      ]
    },
    {
      "cell_type": "markdown",
      "metadata": {
        "id": "D0NgWsqfH4Rd"
      },
      "source": [
        "There should be one .pdb file for each ensemble and a .txt file starting with \"distr_\" that contains the distance distribution."
      ]
    },
    {
      "cell_type": "code",
      "execution_count": null,
      "metadata": {
        "id": "sZIy63x54HMj"
      },
      "outputs": [],
      "source": [
        "#@title Details about the labelling sites: { display-mode: \"form\" }\n",
        "\n",
        "labelPositions = []\n",
        "\n",
        "#first label\n",
        "#@markdown - Provide details for the first labelling site:\n",
        "firstLabel = {}\n",
        "bipedal_1 = True #@param {type:\"boolean\"}\n",
        "firstLabel[\"bipedal\"] = bipedal_1\n",
        "\n",
        "anchor1resi_1 = 6 #@param {type:\"integer\"}\n",
        "firstLabel[\"anchor1resi\"] = anchor1resi_1\n",
        "\n",
        "anchor1chain_1 = \"A\" #@param {type:\"string\"}\n",
        "firstLabel[\"anchor1chain\"] = anchor1chain_1\n",
        "\n",
        "anchor2resi_1 = 8 #@param {type:\"integer\"}\n",
        "firstLabel[\"anchor2resi\"] = anchor2resi_1\n",
        "\n",
        "anchor2chain_1 = \"A\" #@param {type:\"string\"}\n",
        "firstLabel[\"anchor2chain\"] = anchor2chain_1\n",
        "\n",
        "label_1 = \"nta\" #@param [\"nta\",\"R1\",\"ida\", \"rx\", \"SLIM\"]\n",
        "firstLabel[\"label\"] = label_1\n",
        "\n",
        "vdWcutoff_1 = 2.0 #@param {type:\"number\"}\n",
        "firstLabel[\"vdWcutoff\"] = vdWcutoff_1\n",
        "\n",
        "clashes_1 = 15 #@param {type:\"integer\"}\n",
        "firstLabel[\"clashes\"] = clashes_1\n",
        "\n",
        "numberOfRuns_1 = 100 #@param {type:\"number\"}\n",
        "firstLabel[\"numberOfRuns\"] = numberOfRuns_1\n",
        "\n",
        "internalClashCheck_1 = True #@param {type: \"boolean\"}\n",
        "firstLabel[\"internalClashCheck\"] = internalClashCheck_1\n",
        "\n",
        "#second label\n",
        "#@markdown - Provide details for the second labelling site:\n",
        "secondLabel = {}\n",
        "bipedal_2 = False #@param {type:\"boolean\"}\n",
        "secondLabel[\"bipedal\"] = bipedal_2\n",
        "\n",
        "anchor1resi_2= 28 #@param {type:\"integer\"}\n",
        "secondLabel[\"anchor1resi\"] = anchor1resi_2\n",
        "\n",
        "anchor1chain_2 = \"A\" #@param {type:\"string\"}\n",
        "secondLabel[\"anchor1chain\"] = anchor1chain_2\n",
        "\n",
        "anchor2resi_2 = 17 #@param {type:\"integer\"}\n",
        "secondLabel[\"anchor2resi\"] = anchor2resi_2\n",
        "\n",
        "anchor2chain_2 = \"A\" #@param {type:\"string\"}\n",
        "secondLabel[\"anchor2chain\"] = anchor2chain_2\n",
        "\n",
        "label_2 = \"R1\" #@param [\"nta\",\"R1\",\"ida\", \"rx\", \"SLIM\"]\n",
        "secondLabel[\"label\"] = label_2\n",
        "\n",
        "vdWcutoff_2 =  2.5 #@param {type:\"number\"}\n",
        "secondLabel[\"vdWcutoff\"] = vdWcutoff_2\n",
        "\n",
        "clashes_2 = 6 #@param {type:\"integer\"}\n",
        "secondLabel[\"clashes\"] = clashes_2\n",
        "\n",
        "numberOfRuns_2 = 100 #@param {type:\"number\"}\n",
        "firstLabel[\"numberOfRuns\"] = numberOfRuns_2\n",
        "\n",
        "internalClashCheck_2 = True #@param {type: \"boolean\"}\n",
        "firstLabel[\"internalClashCheck\"] = internalClashCheck_2\n",
        "\n",
        "\n",
        "#first label\n",
        "labelPositions.append(firstLabel)\n",
        "\n",
        "#second label\n",
        "labelPositions.append(secondLabel)"
      ]
    },
    {
      "cell_type": "code",
      "execution_count": null,
      "metadata": {
        "cellView": "form",
        "id": "q6x3BHiB-9eF"
      },
      "outputs": [],
      "source": [
        "#@title import modules and libraries ...\n",
        "%cd /content/\n",
        "!git clone https://github.com/gha2012/mtsslWizard_bipedal\n",
        "%cd /content/mtsslWizard_bipedal/\n",
        "!pip install biopython"
      ]
    },
    {
      "cell_type": "code",
      "execution_count": null,
      "metadata": {
        "id": "r_YqwnfiC7Dg"
      },
      "outputs": [],
      "source": [
        "#@title calculate label ensembles...\n",
        "from mWclasses.distanceDistribution import DistanceDistribution as MWdistanceDistribution\n",
        "from mWclasses.bipedalEnsemble import BipedalEnsemble\n",
        "from mWclasses.monopedalEnsemble import MonopedalEnsemble\n",
        "\n",
        "from Bio.PDB import *\n",
        "import numpy\n",
        "import itertools\n",
        "import os\n",
        "\n",
        "\n",
        "\n",
        "# get information about labelling sites and labels\n",
        "from google.colab import files\n",
        "uploaded = files.upload()\n",
        "# Get the uploaded file name\n",
        "file_name = list(uploaded.keys())[0]\n",
        "\n",
        "# Save the file to the current directory\n",
        "with open(file_name, 'wb') as f:\n",
        "    f.write(uploaded[file_name])\n",
        "\n",
        "# Get the file path\n",
        "#pdbfile = os.path.abspath(file_name)\n",
        "pdbfile = file_name\n",
        "\n",
        "\n",
        "spinPositionsForDistance = []\n",
        "distributionFilename = \"\"\n",
        "for labelPosition in labelPositions:\n",
        "    thisLabel = None\n",
        "    if labelPosition[\"bipedal\"]:\n",
        "        thisLabel = BipedalEnsemble(labelPosition[\"anchor1resi\"], labelPosition[\"anchor1chain\"],\n",
        "                                    labelPosition[\"anchor2resi\"], labelPosition[\"anchor2chain\"],\n",
        "                                    labelPosition[\"label\"], pdbfile, labelPosition[\"vdWcutoff\"],\n",
        "                                    labelPosition[\"clashes\"], labelPosition[\"numberOfRuns\"], labelPosition[\"maxTries\"], labelPosition[\"internalClashCheck\"])\n",
        "        thisLabel.createRotamers()\n",
        "        distributionFilename += thisLabel.filename\n",
        "    else:\n",
        "        thisLabel = MonopedalEnsemble(labelPosition[\"anchor1resi\"], labelPosition[\"anchor1chain\"],\n",
        "                                    labelPosition[\"label\"], pdbfile, labelPosition[\"vdWcutoff\"],\n",
        "                                    labelPosition[\"clashes\"])\n",
        "        thisLabel.createRotamers()\n",
        "        distributionFilename += thisLabel.filename\n",
        "    spinPositionsForDistance.append(thisLabel.spinPositions)\n",
        "    distributionFilename += \"_\"\n",
        "\n",
        "dist = []\n",
        "for pair in itertools.combinations(spinPositionsForDistance, 2):\n",
        "    # print pair\n",
        "    mwDistanceDistribution = MWdistanceDistribution()\n",
        "    pair_distances = mwDistanceDistribution.calculateDistanceDistribution(pair[0], pair[1])\n",
        "    # print pair_distances\n",
        "    dist.extend(pair_distances)\n",
        "histogram = numpy.histogram(dist, numpy.arange(100))\n",
        "envelopePlot = numpy.zeros((100, 2))\n",
        "envelopePlot[0:99] = numpy.column_stack((histogram[1][0:len(histogram[1]) - 1], histogram[0]))\n",
        "\n",
        "# put point in mid of bin\n",
        "envelopePlot[:, 0] += 0.5\n",
        "normEnvelopePlot = numpy.copy(envelopePlot)\n",
        "normEnvelopePlot[:, 1] = normEnvelopePlot[:, 1] / numpy.amax(histogram[0])\n",
        "\n",
        "# combine dist and histogram to single array before output\n",
        "output = numpy.column_stack((envelopePlot, normEnvelopePlot[:, 1]))\n",
        "averageDistance = numpy.average(dist)\n",
        "# print averageDistance\n",
        "distributionString = \"[\"\n",
        "for row in output:\n",
        "    # print row\n",
        "    x = row[0]\n",
        "    y = row[2]\n",
        "    # print x, y\n",
        "    newPoint = \"{x:%1.2f, y:%1.2f},\" % (x, y)\n",
        "    distributionString += newPoint\n",
        "distributionString += \"]\"\n",
        "csvString = \"%s\\n\" % averageDistance\n",
        "for row in output:\n",
        "    # print row\n",
        "    x = row[0]\n",
        "    y = row[2]\n",
        "    # print x, y\n",
        "    newPoint = \"%1.2f\\t%1.2f\\n\" % (x, y)\n",
        "    csvString += newPoint\n",
        "distributionFilename = distributionFilename[:-1] # remove trailing _\n",
        "distributionFilename += \".txt\"\n",
        "distributionFilename = distributionFilename.replace(pdbfile, \"\") #remove repeated pdbfilename\n",
        "distributionFilename = \"distr_\" + pdbfile + \"_\" + distributionFilename #add pdbfilename once\n",
        "with open(distributionFilename,\"w\") as text_file:\n",
        "    text_file.write(csvString)"
      ]
    }
  ],
  "metadata": {
    "colab": {
      "provenance": [],
      "authorship_tag": "ABX9TyNP41YkcRX99qsppPP7kIXJ",
      "include_colab_link": true
    },
    "kernelspec": {
      "display_name": "Python 3",
      "name": "python3"
    },
    "language_info": {
      "name": "python"
    }
  },
  "nbformat": 4,
  "nbformat_minor": 0
}